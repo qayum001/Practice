{
 "cells": [
  {
   "cell_type": "code",
   "execution_count": 1,
   "id": "aaceab95-fc57-4be8-b4a3-24ae49799df0",
   "metadata": {},
   "outputs": [
    {
     "name": "stdout",
     "output_type": "stream",
     "text": [
      "picoCTF{7R4N5P051N6_15_3XP3N51V3_109AB02E}\n"
     ]
    }
   ],
   "source": [
    "flag_enc = \"heTfl g as iicpCTo{7F4NRP051N5_16_35P3X51N3_V091B0AE}2\"\n",
    "\n",
    "flag = \"\"\n",
    "for i in range(12, len(flag_enc),3):\n",
    "    temp = flag_enc[i:i+3]\n",
    "    flag += temp[2] + temp[0:2]\n",
    "\n",
    "print(flag)"
   ]
  },
  {
   "cell_type": "code",
   "execution_count": null,
   "id": "a054c702-be19-484e-9ec3-48f558e846a8",
   "metadata": {},
   "outputs": [],
   "source": []
  }
 ],
 "metadata": {
  "kernelspec": {
   "display_name": "Python 3 (ipykernel)",
   "language": "python",
   "name": "python3"
  },
  "language_info": {
   "codemirror_mode": {
    "name": "ipython",
    "version": 3
   },
   "file_extension": ".py",
   "mimetype": "text/x-python",
   "name": "python",
   "nbconvert_exporter": "python",
   "pygments_lexer": "ipython3",
   "version": "3.12.2"
  }
 },
 "nbformat": 4,
 "nbformat_minor": 5
}
